{
 "cells": [
  {
   "cell_type": "code",
   "execution_count": 1,
   "metadata": {},
   "outputs": [],
   "source": [
    "import pyspark.sql\n",
    "from pyspark.sql import SparkSession"
   ]
  },
  {
   "cell_type": "code",
   "execution_count": 2,
   "metadata": {},
   "outputs": [],
   "source": [
    "spark = SparkSession.Builder().appName('Sparky').getOrCreate()"
   ]
  },
  {
   "cell_type": "code",
   "execution_count": 3,
   "metadata": {},
   "outputs": [],
   "source": [
    "df = spark.read.csv(r'C:\\Users\\muham\\Downloads\\cars2.csv', header= True)"
   ]
  },
  {
   "cell_type": "code",
   "execution_count": 4,
   "metadata": {},
   "outputs": [
    {
     "name": "stdout",
     "output_type": "stream",
     "text": [
      "+---+------------+-------------+------------+\n",
      "| cd|cars_per_cap|      country|drives_right|\n",
      "+---+------------+-------------+------------+\n",
      "| US|         809|United States|        TRUE|\n",
      "|AUS|         731|    Australia|       FALSE|\n",
      "|JAP|         588|        Japan|       FALSE|\n",
      "| IN|          18|        India|       FALSE|\n",
      "| RU|         200|       Russia|        TRUE|\n",
      "|MOR|          70|      Morocco|        TRUE|\n",
      "| EG|          45|        Egypt|        TRUE|\n",
      "+---+------------+-------------+------------+\n",
      "\n"
     ]
    }
   ],
   "source": [
    "# show the netire dataset description\n",
    "df.show()"
   ]
  },
  {
   "cell_type": "code",
   "execution_count": 5,
   "metadata": {},
   "outputs": [
    {
     "name": "stdout",
     "output_type": "stream",
     "text": [
      "root\n",
      " |-- cd: string (nullable = true)\n",
      " |-- cars_per_cap: string (nullable = true)\n",
      " |-- country: string (nullable = true)\n",
      " |-- drives_right: string (nullable = true)\n",
      "\n"
     ]
    }
   ],
   "source": [
    "# we find the structure insight of the content\n",
    "df.printSchema()"
   ]
  },
  {
   "cell_type": "code",
   "execution_count": 105,
   "metadata": {},
   "outputs": [],
   "source": [
    "# we create a square root function to be used later\n",
    "def sqre(x):\n",
    "    return x**2"
   ]
  },
  {
   "cell_type": "code",
   "execution_count": 6,
   "metadata": {},
   "outputs": [],
   "source": [
    "from pyspark.sql.functions import udf\n",
    "from pyspark.sql.types import IntegerType, StringType, FloatType"
   ]
  },
  {
   "cell_type": "code",
   "execution_count": 107,
   "metadata": {},
   "outputs": [],
   "source": [
    "# we convert cars_per_cap to integer\n",
    "df= df.withColumn('cars_per_cap', df['cars_per_cap'].cast(IntegerType()))"
   ]
  },
  {
   "cell_type": "code",
   "execution_count": 108,
   "metadata": {},
   "outputs": [
    {
     "name": "stdout",
     "output_type": "stream",
     "text": [
      "root\n",
      " |-- cd: string (nullable = true)\n",
      " |-- cars_per_cap: integer (nullable = true)\n",
      " |-- country: string (nullable = true)\n",
      " |-- drives_right: string (nullable = true)\n",
      "\n"
     ]
    }
   ],
   "source": [
    "df.printSchema()"
   ]
  },
  {
   "cell_type": "code",
   "execution_count": 109,
   "metadata": {},
   "outputs": [
    {
     "name": "stdout",
     "output_type": "stream",
     "text": [
      "+---+-------------+\n",
      "| cd|      country|\n",
      "+---+-------------+\n",
      "| US|United States|\n",
      "|AUS|    Australia|\n",
      "|JAP|        Japan|\n",
      "| IN|        India|\n",
      "| RU|       Russia|\n",
      "|MOR|      Morocco|\n",
      "| EG|        Egypt|\n",
      "+---+-------------+\n",
      "\n"
     ]
    }
   ],
   "source": [
    "df['cd','country'].show()"
   ]
  },
  {
   "cell_type": "code",
   "execution_count": 110,
   "metadata": {},
   "outputs": [
    {
     "name": "stdout",
     "output_type": "stream",
     "text": [
      "+---+------------+-------------+------------+\n",
      "| cd|cars_per_cap|      country|drives_right|\n",
      "+---+------------+-------------+------------+\n",
      "| US|         809|United States|        TRUE|\n",
      "|AUS|         731|    Australia|       FALSE|\n",
      "|JAP|         588|        Japan|       FALSE|\n",
      "+---+------------+-------------+------------+\n",
      "\n"
     ]
    }
   ],
   "source": [
    "df.filter(df.cars_per_cap > 500).show()"
   ]
  },
  {
   "cell_type": "code",
   "execution_count": 111,
   "metadata": {},
   "outputs": [
    {
     "name": "stdout",
     "output_type": "stream",
     "text": [
      "+-------------+------------+-----------+\n",
      "|      country|cars_per_cap|square_root|\n",
      "+-------------+------------+-----------+\n",
      "|United States|         809|   654481.0|\n",
      "|    Australia|         731|   534361.0|\n",
      "|        Japan|         588|   345744.0|\n",
      "|        India|          18|      324.0|\n",
      "|       Russia|         200|    40000.0|\n",
      "|      Morocco|          70|     4900.0|\n",
      "|        Egypt|          45|     2025.0|\n",
      "+-------------+------------+-----------+\n",
      "\n"
     ]
    }
   ],
   "source": [
    "df.select(df.country, df.cars_per_cap, sqre(df.cars_per_cap).alias('square_root')).show()"
   ]
  },
  {
   "cell_type": "code",
   "execution_count": 112,
   "metadata": {},
   "outputs": [],
   "source": [
    "def car_intervals(z):\n",
    "    if z > 700:\n",
    "        x = 'Cars are alot'\n",
    "    elif z > 500:\n",
    "        x = 'Cars are fairly in large numbers'\n",
    "    elif z > 300:\n",
    "        x = 'Cars are fair in numbers'\n",
    "    else:\n",
    "        x = 'Cars per cap are very less to be considered'\n",
    "    \n",
    "    return x"
   ]
  },
  {
   "cell_type": "code",
   "execution_count": 116,
   "metadata": {},
   "outputs": [
    {
     "name": "stdin",
     "output_type": "stream",
     "text": [
      "Enter your cars:  5\n"
     ]
    },
    {
     "name": "stdout",
     "output_type": "stream",
     "text": [
      "Thus its shown 5 of Cars per cap are very less to be considered\n"
     ]
    }
   ],
   "source": [
    "cars = int(input('Enter your cars: ') )\n",
    "score = car_intervals(cars)\n",
    "print('Thus its shown %d of %s' % (cars,score))"
   ]
  },
  {
   "cell_type": "code",
   "execution_count": 117,
   "metadata": {},
   "outputs": [],
   "source": [
    "def catg(x):\n",
    "    if x >= 700:\n",
    "         r = 'too high'\n",
    "    elif x >= 600:\n",
    "        r = 'mediocre'\n",
    "    elif x >= 500:\n",
    "        r = 'substantial'\n",
    "    elif x >= 400:\n",
    "        r = 'can do better'\n",
    "    elif x >= 200:\n",
    "        r = 'Average'\n",
    "    else:\n",
    "        r = 'needs more work'\n",
    "    return r"
   ]
  },
  {
   "cell_type": "code",
   "execution_count": 118,
   "metadata": {},
   "outputs": [],
   "source": [
    "catg1 = udf(lambda x: catg(x), StringType())"
   ]
  },
  {
   "cell_type": "code",
   "execution_count": 119,
   "metadata": {},
   "outputs": [
    {
     "name": "stdout",
     "output_type": "stream",
     "text": [
      "+-------------+------------+---------------+\n",
      "|      country|cars_per_cap|           atg1|\n",
      "+-------------+------------+---------------+\n",
      "|United States|         809|       too high|\n",
      "|    Australia|         731|       too high|\n",
      "|        Japan|         588|    substantial|\n",
      "|        India|          18|needs more work|\n",
      "|       Russia|         200|        Average|\n",
      "|      Morocco|          70|needs more work|\n",
      "|        Egypt|          45|needs more work|\n",
      "+-------------+------------+---------------+\n",
      "\n"
     ]
    }
   ],
   "source": [
    "df.select('country', df.cars_per_cap, catg1(df.cars_per_cap).alias('atg1')).show()"
   ]
  },
  {
   "cell_type": "code",
   "execution_count": 134,
   "metadata": {},
   "outputs": [],
   "source": [
    "# we can use lamda to create a single line function without issues\n",
    "category = udf(lambda s: 'high' if s>= 600 else('Medium' if s >= 400 else 'low'), StringType())"
   ]
  },
  {
   "cell_type": "code",
   "execution_count": 133,
   "metadata": {},
   "outputs": [
    {
     "name": "stdout",
     "output_type": "stream",
     "text": [
      "+-------------+------------+---------------+------+\n",
      "|      country|cars_per_cap|      Sqre root|  rank|\n",
      "+-------------+------------+---------------+------+\n",
      "|United States|         809|       too high|  high|\n",
      "|    Australia|         731|       too high|  high|\n",
      "|        Japan|         588|    substantial|Medium|\n",
      "|        India|          18|needs more work|   low|\n",
      "|       Russia|         200|        Average|   low|\n",
      "|      Morocco|          70|needs more work|   low|\n",
      "|        Egypt|          45|needs more work|   low|\n",
      "+-------------+------------+---------------+------+\n",
      "\n"
     ]
    }
   ],
   "source": [
    "df.select(df.country, df.cars_per_cap, catg1(df.cars_per_cap).alias('Sqre root'),category(df.cars_per_cap).alias('rank')).show()"
   ]
  },
  {
   "cell_type": "code",
   "execution_count": 136,
   "metadata": {},
   "outputs": [],
   "source": [
    "df = df.withColumn('cars_per-cap', df['cars_per_cap'].cast(IntegerType()))"
   ]
  },
  {
   "cell_type": "code",
   "execution_count": 137,
   "metadata": {},
   "outputs": [
    {
     "name": "stdout",
     "output_type": "stream",
     "text": [
      "+---+------------+-------------+------------+------------+\n",
      "| cd|cars_per_cap|      country|drives_right|cars_per-cap|\n",
      "+---+------------+-------------+------------+------------+\n",
      "| US|         809|United States|        TRUE|         809|\n",
      "|AUS|         731|    Australia|       FALSE|         731|\n",
      "|JAP|         588|        Japan|       FALSE|         588|\n",
      "| IN|          18|        India|       FALSE|          18|\n",
      "| RU|         200|       Russia|        TRUE|         200|\n",
      "|MOR|          70|      Morocco|        TRUE|          70|\n",
      "| EG|          45|        Egypt|        TRUE|          45|\n",
      "+---+------------+-------------+------------+------------+\n",
      "\n"
     ]
    }
   ],
   "source": [
    "df.show()"
   ]
  },
  {
   "cell_type": "code",
   "execution_count": 138,
   "metadata": {},
   "outputs": [
    {
     "data": {
      "text/plain": [
       "[('cd', 'string'),\n",
       " ('cars_per_cap', 'int'),\n",
       " ('country', 'string'),\n",
       " ('drives_right', 'string'),\n",
       " ('cars_per-cap', 'int')]"
      ]
     },
     "execution_count": 138,
     "metadata": {},
     "output_type": "execute_result"
    }
   ],
   "source": [
    "df.dtypes"
   ]
  },
  {
   "cell_type": "code",
   "execution_count": null,
   "metadata": {},
   "outputs": [],
   "source": []
  }
 ],
 "metadata": {
  "kernelspec": {
   "display_name": "Python 3",
   "language": "python",
   "name": "python3"
  },
  "language_info": {
   "codemirror_mode": {
    "name": "ipython",
    "version": 3
   },
   "file_extension": ".py",
   "mimetype": "text/x-python",
   "name": "python",
   "nbconvert_exporter": "python",
   "pygments_lexer": "ipython3",
   "version": "3.8.3"
  }
 },
 "nbformat": 4,
 "nbformat_minor": 4
}
